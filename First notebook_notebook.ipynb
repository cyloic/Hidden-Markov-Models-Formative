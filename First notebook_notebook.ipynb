{
 "cells": [
  {
   "cell_type": "code",
   "execution_count": 1,
   "id": "bdb3427e",
   "metadata": {},
   "outputs": [],
   "source": [
    "import os\n",
    "import glob\n",
    "import numpy as np\n",
    "import pandas as pd\n",
    "from scipy import fftpack\n",
    "from scipy.stats import zscore, multivariate_normal\n",
    "from sklearn.decomposition import PCA\n",
    "from sklearn.metrics import confusion_matrix, classification_report\n",
    "import matplotlib.pyplot as plt\n",
    "import seaborn as sns\n",
    "from hmmlearn import hmm\n",
    "import joblib"
   ]
  },
  {
   "cell_type": "code",
   "execution_count": 12,
   "id": "3d57f433",
   "metadata": {},
   "outputs": [],
   "source": [
    "# -------------------------\n",
    "# PARAMETERS\n",
    "# -------------------------\n",
    "DATA_FOLDERS = {\n",
    "    'jump': 'datasets/final_jump_data',\n",
    "    'walking': 'datasets/final_walking_data',\n",
    "    'stand': 'datasets/final_stand_data',\n",
    "    'still': 'datasets/final_still_data'\n",
    "}\n",
    "FS = 100  # sampling frequency (Hz)\n",
    "WINDOW_SEC = 1.0  # 1-second windows\n",
    "WINDOW_STEP = 0.5  # seconds (50% overlap)\n",
    "N_PCA = 10  # optional dimensionality reduction for HMM emissions\n",
    "N_COMPONENTS_HMM = 4  # 4 hidden states (jump, walking, stand, still)\n",
    "RANDOM_STATE = 42"
   ]
  },
  {
   "cell_type": "code",
   "execution_count": 3,
   "id": "23cb0e0e",
   "metadata": {},
   "outputs": [
    {
     "name": "stdout",
     "output_type": "stream",
     "text": [
      "Loaded 102 sessions\n"
     ]
    }
   ],
   "source": [
    "# -------------------------\n",
    "# 1) LOAD DATA\n",
    "# -------------------------\n",
    "\n",
    "def load_all_sessions(data_folders):\n",
    "    \"\"\"Load CSVs from labeled folders. Returns list of dicts: {'activity', 'file', 'df'}\"\"\"\n",
    "    sessions = []\n",
    "    for label, folder in data_folders.items():\n",
    "        files = sorted(glob.glob(os.path.join(folder, '*.csv')))\n",
    "        for f in files:\n",
    "            df = pd.read_csv(f)\n",
    "            # Ensure expected columns\n",
    "            expected = ['seconds_elapsed','ax','ay','az','gx','gy','gz']\n",
    "            if not all(c in df.columns for c in expected):\n",
    "                raise ValueError(f\"File {f} missing expected columns. Found: {df.columns.tolist()}\")\n",
    "            sessions.append({'activity': label, 'file': f, 'df': df[expected].copy()})\n",
    "    return sessions\n",
    "\n",
    "sessions = load_all_sessions(DATA_FOLDERS)\n",
    "print(f\"Loaded {len(sessions)} sessions\")\n"
   ]
  },
  {
   "cell_type": "code",
   "execution_count": 4,
   "id": "346018ac",
   "metadata": {},
   "outputs": [],
   "source": [
    "# -------------------------\n",
    "# 2) WINDOWING\n",
    "# -------------------------\n",
    "\n",
    "def sliding_windows(df, window_sec=WINDOW_SEC, step_sec=WINDOW_STEP, fs=FS):\n",
    "    n_win = int(round(window_sec * fs))\n",
    "    step = int(round(step_sec * fs))\n",
    "    data = df[['ax','ay','az','gx','gy','gz']].values\n",
    "    starts = np.arange(0, len(df) - n_win + 1, step)\n",
    "    windows = []\n",
    "    for s in starts:\n",
    "        win = data[s:s+n_win]\n",
    "        windows.append({'start_idx': s, 'window': win, 'seconds': df['seconds_elapsed'].iloc[s]})\n",
    "    return windows\n"
   ]
  },
  {
   "cell_type": "code",
   "execution_count": 5,
   "id": "c697a0c6",
   "metadata": {},
   "outputs": [],
   "source": [
    "# -------------------------\n",
    "# 3) FEATURE EXTRACTION\n",
    "# -------------------------\n",
    "\n",
    "def compute_time_features(win):\n",
    "    # win shape: (n_samples, 6) -> ax,ay,az,gx,gy,gz\n",
    "    feats = {}\n",
    "    accel = win[:,0:3]\n",
    "    gyro = win[:,3:6]\n",
    "    # Time-domain: per-axis mean, std, var, rms, ptp\n",
    "    for i, name in enumerate(['ax','ay','az']):\n",
    "        x = accel[:,i]\n",
    "        feats[f'{name}_mean'] = np.mean(x)\n",
    "        feats[f'{name}_std'] = np.std(x)\n",
    "        feats[f'{name}_var'] = np.var(x)\n",
    "        feats[f'{name}_rms'] = np.sqrt(np.mean(x**2))\n",
    "        feats[f'{name}_ptp'] = np.ptp(x)\n",
    "    for i, name in enumerate(['gx','gy','gz']):\n",
    "        x = gyro[:,i]\n",
    "        feats[f'{name}_mean'] = np.mean(x)\n",
    "        feats[f'{name}_std'] = np.std(x)\n",
    "        feats[f'{name}_var'] = np.var(x)\n",
    "        feats[f'{name}_rms'] = np.sqrt(np.mean(x**2))\n",
    "        feats[f'{name}_ptp'] = np.ptp(x)\n",
    "    # SMA for accel\n",
    "    feats['acc_sma'] = np.sum(np.abs(accel)) / accel.shape[0]\n",
    "    # Correlations between axes (accel)\n",
    "    feats['acc_corr_xy'] = np.corrcoef(accel[:,0], accel[:,1])[0,1]\n",
    "    feats['acc_corr_xz'] = np.corrcoef(accel[:,0], accel[:,2])[0,1]\n",
    "    feats['acc_corr_yz'] = np.corrcoef(accel[:,1], accel[:,2])[0,1]\n",
    "    return feats\n",
    "\n",
    "def compute_freq_features(win, fs=FS):\n",
    "    feats = {}\n",
    "    n = win.shape[0]\n",
    "    accel = win[:,0:3]\n",
    "    gyro = win[:,3:6]\n",
    "    # For each axis compute dominant frequency and spectral energy\n",
    "    for i, name in enumerate(['ax','ay','az']):\n",
    "        x = accel[:,i]\n",
    "        X = np.fft.rfft(x)\n",
    "        P = np.abs(X)**2\n",
    "        freqs = np.fft.rfftfreq(n, 1/fs)\n",
    "        dominant = freqs[np.argmax(P)]\n",
    "        feats[f'{name}_domfreq'] = dominant\n",
    "        feats[f'{name}_specenergy'] = np.sum(P)\n",
    "    for i, name in enumerate(['gx','gy','gz']):\n",
    "        x = gyro[:,i]\n",
    "        X = np.fft.rfft(x)\n",
    "        P = np.abs(X)**2\n",
    "        freqs = np.fft.rfftfreq(n, 1/fs)\n",
    "        dominant = freqs[np.argmax(P)]\n",
    "        feats[f'{name}_domfreq'] = dominant\n",
    "        feats[f'{name}_specenergy'] = np.sum(P)\n",
    "    return feats\n",
    "\n",
    "def extract_features_from_windows(windows):\n",
    "    feat_list = []\n",
    "    for w in windows:\n",
    "        win = w['window']\n",
    "        tfeats = compute_time_features(win)\n",
    "        ffeats = compute_freq_features(win)\n",
    "        merged = {**tfeats, **ffeats}\n",
    "        merged['start_idx'] = w['start_idx']\n",
    "        merged['seconds'] = w['seconds']\n",
    "        feat_list.append(merged)\n",
    "    return pd.DataFrame(feat_list)\n"
   ]
  },
  {
   "cell_type": "code",
   "execution_count": 6,
   "id": "cffe99ee",
   "metadata": {},
   "outputs": [
    {
     "name": "stdout",
     "output_type": "stream",
     "text": [
      "Extracted features for 102 sessions\n",
      "Total windows: 1270\n"
     ]
    }
   ],
   "source": [
    "# -------------------------\n",
    "# 4) BUILD FEATURE DATASET PER SESSION\n",
    "# -------------------------\n",
    "\n",
    "all_feature_sessions = []  # list of dicts with: activity, file, features_df\n",
    "for s in sessions:\n",
    "    windows = sliding_windows(s['df'])\n",
    "    feats = extract_features_from_windows(windows)\n",
    "    feats['activity'] = s['activity']\n",
    "    feats['file'] = os.path.basename(s['file'])\n",
    "    all_feature_sessions.append({'activity': s['activity'], 'file': s['file'], 'features': feats})\n",
    "\n",
    "print('Extracted features for', len(all_feature_sessions), 'sessions')\n",
    "\n",
    "# Concatenate to a single DataFrame for convenience\n",
    "features_df = pd.concat([fs['features'] for fs in all_feature_sessions], ignore_index=True)\n",
    "print('Total windows:', len(features_df))\n"
   ]
  },
  {
   "cell_type": "code",
   "execution_count": 7,
   "id": "4bbde74c",
   "metadata": {},
   "outputs": [
    {
     "name": "stdout",
     "output_type": "stream",
     "text": [
      "Features -> PCA dims: (1270, 10)\n"
     ]
    }
   ],
   "source": [
    "# -------------------------\n",
    "# 5) PREPROCESS FEATURES FOR HMM\n",
    "# -------------------------\n",
    "\n",
    "# Drop columns not used as features\n",
    "non_feature_cols = ['start_idx','seconds','activity','file']\n",
    "feature_cols = [c for c in features_df.columns if c not in non_feature_cols]\n",
    "X_raw = features_df[feature_cols].fillna(0).values\n",
    "# Z-score normalize across the dataset\n",
    "X_norm = zscore(X_raw, axis=0)\n",
    "# Optional PCA to reduce dimensionality for HMM emissions\n",
    "pca = PCA(n_components=min(N_PCA, X_norm.shape[1]), random_state=RANDOM_STATE)\n",
    "X_pca = pca.fit_transform(X_norm)\n",
    "print('Features -> PCA dims:', X_pca.shape)\n"
   ]
  },
  {
   "cell_type": "code",
   "execution_count": 8,
   "id": "0896f836",
   "metadata": {},
   "outputs": [],
   "source": [
    "# -------------------------\n",
    "# 6) PREPARE SEQUENCES (concatenate by session) for HMM training\n",
    "# -------------------------\n",
    "lengths = [len(fs['features']) for fs in all_feature_sessions]\n",
    "# order of concatenation matches all_feature_sessions\n",
    "X_concat = np.vstack([fs['features'][feature_cols].fillna(0).values for fs in all_feature_sessions])\n",
    "X_concat_norm = zscore(X_concat, axis=0)\n",
    "X_concat_pca = pca.transform(X_concat_norm)\n",
    "\n",
    "# Keep labels per window for evaluation\n",
    "labels_concat = np.concatenate([fs['features']['activity'].values for fs in all_feature_sessions])\n",
    "filenames_concat = np.concatenate([np.repeat(os.path.basename(fs['file']), len(fs['features'])) for fs in all_feature_sessions])\n"
   ]
  },
  {
   "cell_type": "code",
   "execution_count": 9,
   "id": "000cc380",
   "metadata": {},
   "outputs": [
    {
     "name": "stdout",
     "output_type": "stream",
     "text": [
      "HMM trained. Score: -5364.67915272959\n"
     ]
    },
    {
     "data": {
      "text/plain": [
       "['pca.joblib']"
      ]
     },
     "execution_count": 9,
     "metadata": {},
     "output_type": "execute_result"
    }
   ],
   "source": [
    "# -------------------------\n",
    "# 7) TRAIN HMM (Baum-Welch via hmmlearn)\n",
    "# -------------------------\n",
    "model = hmm.GaussianHMM(n_components=N_COMPONENTS_HMM, covariance_type='full', n_iter=200, random_state=RANDOM_STATE)\n",
    "# Initialize means using KMeans-like (hmmlearn has init params; skipping KMeans to keep simple)\n",
    "model.fit(X_concat_pca, lengths=lengths)\n",
    "print('HMM trained. Score:', model.score(X_concat_pca, lengths))\n",
    "\n",
    "# Save model & PCA\n",
    "joblib.dump(model, 'hmm_model.joblib')\n",
    "joblib.dump(pca, 'pca.joblib')\n"
   ]
  },
  {
   "cell_type": "code",
   "execution_count": 10,
   "id": "43d55864",
   "metadata": {},
   "outputs": [],
   "source": [
    "# -------------------------\n",
    "# 8) VITERBI implementation (uses learned model params)\n",
    "# -------------------------\n",
    "\n",
    "def viterbi_log(obs, startprob, transmat, means, covars):\n",
    "    # obs: (T, D)\n",
    "    T = obs.shape[0]\n",
    "    N = startprob.shape[0]\n",
    "    log_start = np.log(startprob + 1e-12)\n",
    "    log_trans = np.log(transmat + 1e-12)\n",
    "    # Precompute log likelihoods using multivariate normal\n",
    "    log_lik = np.zeros((T, N))\n",
    "    for k in range(N):\n",
    "        rv = multivariate_normal(mean=means[k], cov=covars[k], allow_singular=True)\n",
    "        log_lik[:, k] = rv.logpdf(obs)\n",
    "    # delta and psi\n",
    "    delta = np.full((T, N), -np.inf)\n",
    "    psi = np.zeros((T, N), dtype=int)\n",
    "    delta[0] = log_start + log_lik[0]\n",
    "    for t in range(1, T):\n",
    "        for j in range(N):\n",
    "            seq_probs = delta[t-1] + log_trans[:, j]\n",
    "            psi[t, j] = np.argmax(seq_probs)\n",
    "            delta[t, j] = seq_probs[psi[t, j]] + log_lik[t, j]\n",
    "    # Backtrack\n",
    "    states = np.zeros(T, dtype=int)\n",
    "    states[-1] = np.argmax(delta[-1])\n",
    "    for t in range(T-2, -1, -1):\n",
    "        states[t] = psi[t+1, states[t+1]]\n",
    "    return states\n",
    "\n",
    "# Use model parameters\n",
    "startprob = model.startprob_\n",
    "transmat = model.transmat_\n",
    "means = model.means_\n",
    "covars = model.covars_\n",
    "\n",
    "# Decode the entire concatenated sequence\n",
    "decoded_states = viterbi_log(X_concat_pca, startprob, transmat, means, covars)\n"
   ]
  },
  {
   "cell_type": "code",
   "execution_count": 11,
   "id": "5b410d14",
   "metadata": {},
   "outputs": [
    {
     "name": "stdout",
     "output_type": "stream",
     "text": [
      "State -> activity mapping: {0: 'stand', 1: 'jump', 2: 'jump', 3: 'still'}\n"
     ]
    }
   ],
   "source": [
    "# -------------------------\n",
    "# 9) Map HMM states to ground-truth activities\n",
    "# -------------------------\n",
    "# HMM state indices are arbitrary; we map them to activities by majority vote within each HMM state\n",
    "state_to_activity = {}\n",
    "for s in range(N_COMPONENTS_HMM):\n",
    "    mask = decoded_states == s\n",
    "    if mask.sum() == 0:\n",
    "        state_to_activity[s] = 'unknown'\n",
    "    else:\n",
    "        vals, counts = np.unique(labels_concat[mask], return_counts=True)\n",
    "        state_to_activity[s] = vals[np.argmax(counts)]\n",
    "print('State -> activity mapping:', state_to_activity)\n",
    "\n",
    "predicted_activity = np.array([state_to_activity[s] for s in decoded_states])\n"
   ]
  },
  {
   "cell_type": "code",
   "execution_count": 13,
   "id": "7aa8d4b4",
   "metadata": {},
   "outputs": [
    {
     "name": "stdout",
     "output_type": "stream",
     "text": [
      "Confusion matrix (rows true, cols pred)\n",
      "         jump  stand  still  walking\n",
      "jump      383      2      0        0\n",
      "stand       1    274      0        0\n",
      "still       0      0    336        0\n",
      "walking    50    224      0        0\n",
      "\n",
      "Classification report:\n",
      "              precision    recall  f1-score   support\n",
      "\n",
      "        jump       0.88      0.99      0.94       385\n",
      "       stand       0.55      1.00      0.71       275\n",
      "       still       1.00      1.00      1.00       336\n",
      "     walking       0.00      0.00      0.00       274\n",
      "\n",
      "    accuracy                           0.78      1270\n",
      "   macro avg       0.61      0.75      0.66      1270\n",
      "weighted avg       0.65      0.78      0.70      1270\n",
      "\n",
      "\n",
      "Per-state metrics:\n",
      "  activity  samples  sensitivity  specificity  overall_accuracy\n",
      "0     jump      385     0.994805     0.942373          0.958268\n",
      "1    stand      275     0.996364     0.772864          0.821260\n",
      "2    still      336     1.000000     1.000000          1.000000\n",
      "3  walking      274     0.000000     1.000000          0.784252\n"
     ]
    }
   ],
   "source": [
    "# -------------------------\n",
    "# 10) Evaluation (overall & per-state metrics)\n",
    "# -------------------------\n",
    "activities = np.unique(labels_concat)\n",
    "cm = confusion_matrix(labels_concat, predicted_activity, labels=activities)\n",
    "print('Confusion matrix (rows true, cols pred)')\n",
    "print(pd.DataFrame(cm, index=activities, columns=activities))\n",
    "print('\\nClassification report:')\n",
    "print(classification_report(labels_concat, predicted_activity, zero_division=0))\n",
    "\n",
    "# Per-state sensitivity, specificity, accuracy table\n",
    "results = []\n",
    "total = cm.sum()\n",
    "for i, act in enumerate(activities):\n",
    "    TP = cm[i,i]\n",
    "    FN = cm[i,:].sum() - TP\n",
    "    FP = cm[:,i].sum() - TP\n",
    "    TN = total - TP - FN - FP\n",
    "    sensitivity = TP / (TP + FN) if (TP + FN)>0 else 0\n",
    "    specificity = TN / (TN + FP) if (TN + FP)>0 else 0\n",
    "    overall_acc = (TP + TN) / total\n",
    "    results.append({'activity': act, 'samples': cm[i,:].sum(), 'sensitivity': sensitivity, 'specificity': specificity, 'overall_accuracy': overall_acc})\n",
    "\n",
    "results_df = pd.DataFrame(results)\n",
    "print('\\nPer-state metrics:')\n",
    "print(results_df)\n"
   ]
  },
  {
   "cell_type": "code",
   "execution_count": 14,
   "id": "3c553a00",
   "metadata": {},
   "outputs": [
    {
     "name": "stdout",
     "output_type": "stream",
     "text": [
      "\n",
      "Saved figures and results to working directory.\n"
     ]
    },
    {
     "data": {
      "image/png": "[encoded data removed]",
      "text/plain": [
       "<Figure size 600x400 with 2 Axes>"
      ]
     },
     "metadata": {},
     "output_type": "display_data"
    },
    {
     "data": {
      "image/png": "[encoded data removed]",
      "text/plain": [
       "<Figure size 1200x300 with 1 Axes>"
      ]
     },
     "metadata": {},
     "output_type": "display_data"
    },
    {
     "data": {
      "image/png": "[encoded data removed]",
      "text/plain": [
       "<Figure size 600x500 with 2 Axes>"
      ]
     },
     "metadata": {},
     "output_type": "display_data"
    }
   ],
   "source": [
    "# -------------------------\n",
    "# 11) Visualizations\n",
    "# -------------------------\n",
    "\n",
    "# Transition matrix heatmap\n",
    "plt.figure(figsize=(6,4))\n",
    "ax = sns.heatmap(transmat, annot=True, fmt='.2f', cmap='viridis')\n",
    "ax.set_title('HMM Transition Matrix')\n",
    "ax.set_xlabel('To state')\n",
    "ax.set_ylabel('From state')\n",
    "plt.tight_layout()\n",
    "plt.savefig('transition_matrix_heatmap.png', dpi=150)\n",
    "\n",
    "# Timeline: show a segment of ground truth vs predicted (first concatenated file length)\n",
    "plt.figure(figsize=(12,3))\n",
    "# convert activities to integers for plotting\n",
    "act_to_int = {a:i for i,a in enumerate(activities)}\n",
    "true_ints = np.array([act_to_int[a] for a in labels_concat])\n",
    "pred_ints = np.array([act_to_int[a] for a in predicted_activity])\n",
    "plt.plot(true_ints, label='true', alpha=0.7)\n",
    "plt.plot(pred_ints, label='pred', alpha=0.7)\n",
    "plt.yticks(list(act_to_int.values()), list(act_to_int.keys()))\n",
    "plt.legend()\n",
    "plt.title('Decoded vs True activity sequence (all windows)')\n",
    "plt.tight_layout()\n",
    "plt.savefig('decoded_timeline.png', dpi=150)\n",
    "\n",
    "# Confusion matrix plot\n",
    "plt.figure(figsize=(6,5))\n",
    "sns.heatmap(cm, annot=True, fmt='d', xticklabels=activities, yticklabels=activities)\n",
    "plt.xlabel('Predicted')\n",
    "plt.ylabel('True')\n",
    "plt.title('Confusion Matrix')\n",
    "plt.tight_layout()\n",
    "plt.savefig('confusion_matrix.png', dpi=150)\n",
    "\n",
    "# Save results table\n",
    "results_df.to_csv('hmm_evaluation_per_state.csv', index=False)\n",
    "\n",
    "print('\\nSaved figures and results to working directory.')\n"
   ]
  },
  {
   "cell_type": "code",
   "execution_count": null,
   "id": "be815440",
   "metadata": {},
   "outputs": [],
   "source": []
  }
 ],
 "metadata": {
  "kernelspec": {
   "display_name": "Python 3",
   "language": "python",
   "name": "python3"
  },
  "language_info": {
   "codemirror_mode": {
    "name": "ipython",
    "version": 3
   },
   "file_extension": ".py",
   "mimetype": "text/x-python",
   "name": "python",
   "nbconvert_exporter": "python",
   "pygments_lexer": "ipython3",
   "version": "3.9.6"
  }
 },
 "nbformat": 4,
 "nbformat_minor": 5
}
